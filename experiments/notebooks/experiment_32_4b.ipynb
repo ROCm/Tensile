{
 "cells": [
  {
   "cell_type": "code",
   "execution_count": 1,
   "metadata": {},
   "outputs": [],
   "source": [
    "import pandas as pd\n",
    "import numpy as np\n",
    "from IPython.display import display\n",
    "import math\n",
    "import yaml\n",
    "import matplotlib.pyplot as plt\n",
    "import matplotlib as mpl\n",
    "\n",
    "%matplotlib inline"
   ]
  },
  {
   "cell_type": "code",
   "execution_count": 2,
   "metadata": {},
   "outputs": [],
   "source": [
    "#dataFilePathNN = \"../data/testLibrary/results1/Cijk_Ailk_Bljk_SB/0/data/benchmark.csv\"\n",
    "#dataNN = pd.read_csv(dataFilePathNN).rename(str.strip,axis='columns')\n",
    "\n",
    "dataFilePathNT = \"../data/testLibrary/results1/Cijk_Ailk_Bjlk_SB/1/data/benchmark.csv\"\n",
    "dataNT = pd.read_csv(dataFilePathNT).rename(str.strip,axis='columns')\n",
    "\n",
    "#dataFilePathTN = \"../data/testLibrary/results1/Cijk_Alik_Bljk_SB/2/data/benchmark.csv\"\n",
    "#dataTN = pd.read_csv(dataFilePathTN).rename(str.strip,axis='columns')"
   ]
  },
  {
   "cell_type": "code",
   "execution_count": 3,
   "metadata": {},
   "outputs": [],
   "source": [
    "sizesNT = dataNT[['SizeI','SizeJ','SizeK','SizeL']]\n",
    "keysNT = sizesNT.apply(lambda row: (row.SizeI,row.SizeJ,row.SizeK,row.SizeL), axis=1)\n",
    "dataNT.index = list(keysNT) \n",
    "dataNT_T = dataNT.iloc[:,10:].T"
   ]
  },
  {
   "cell_type": "code",
   "execution_count": 4,
   "metadata": {},
   "outputs": [],
   "source": [
    "maxNT = dataNT_T.max()\n",
    "idxmaxNT = maxNT.idxmax()"
   ]
  },
  {
   "cell_type": "code",
   "execution_count": 5,
   "metadata": {},
   "outputs": [
    {
     "data": {
      "text/plain": [
       "(319, 300, 1, 256)"
      ]
     },
     "execution_count": 5,
     "metadata": {},
     "output_type": "execute_result"
    }
   ],
   "source": [
    "idxmaxNT"
   ]
  },
  {
   "cell_type": "code",
   "execution_count": 6,
   "metadata": {},
   "outputs": [],
   "source": [
    "myidxsNT = [(n,300,1,256) for n in range(192,320)]\n",
    "keyMaxNT = dataNT_T[myidxsNT][idxmaxNT].idxmax()"
   ]
  },
  {
   "cell_type": "code",
   "execution_count": 7,
   "metadata": {},
   "outputs": [
    {
     "data": {
      "text/plain": [
       "'Cijk_Ailk_Bjlk_SB_MT256x32x8_SE_EPS1_GRVW4_K1_NLCA1_PGR1_WG32_4_2_WGM8'"
      ]
     },
     "execution_count": 7,
     "metadata": {},
     "output_type": "execute_result"
    }
   ],
   "source": [
    "keyMaxNT"
   ]
  },
  {
   "cell_type": "code",
   "execution_count": 8,
   "metadata": {},
   "outputs": [],
   "source": [
    "rowMaxNT = dataNT.loc[myidxsNT][keyMaxNT]\n",
    "keys_nt_tmp = [n[0] for n in list(rowMaxNT.keys())]\n",
    "keys_nt_tmp\n",
    "rowMaxNT.index = keys_nt_tmp"
   ]
  },
  {
   "cell_type": "code",
   "execution_count": 9,
   "metadata": {},
   "outputs": [
    {
     "data": {
      "text/plain": [
       "192    365\n",
       "193    359\n",
       "194    362\n",
       "195    371\n",
       "196    370\n",
       "      ... \n",
       "315    618\n",
       "316    616\n",
       "317    619\n",
       "318    616\n",
       "319    622\n",
       "Name: Cijk_Ailk_Bjlk_SB_MT256x32x8_SE_EPS1_GRVW4_K1_NLCA1_PGR1_WG32_4_2_WGM8, Length: 128, dtype: int64"
      ]
     },
     "execution_count": 9,
     "metadata": {},
     "output_type": "execute_result"
    }
   ],
   "source": [
    "rowMaxNT"
   ]
  },
  {
   "cell_type": "code",
   "execution_count": 10,
   "metadata": {},
   "outputs": [
    {
     "data": {
      "text/plain": [
       "<matplotlib.axes._subplots.AxesSubplot at 0x7fe52e7d4b00>"
      ]
     },
     "execution_count": 10,
     "metadata": {},
     "output_type": "execute_result"
    },
    {
     "data": {
      "image/png": "[encoded data removed]",
      "text/plain": [
       "<Figure size 432x288 with 1 Axes>"
      ]
     },
     "metadata": {
      "needs_background": "light"
     },
     "output_type": "display_data"
    }
   ],
   "source": [
    "#outputFile = outputFilePath + \"/plot_nt.png\"\n",
    "rowMaxNT.plot(style='.')\n",
    "#rowMaxNT.plot(style='.')"
   ]
  },
  {
   "cell_type": "code",
   "execution_count": 11,
   "metadata": {},
   "outputs": [
    {
     "data": {
      "text/plain": [
       "<matplotlib.axes._subplots.AxesSubplot at 0x7fe52c6a2128>"
      ]
     },
     "execution_count": 11,
     "metadata": {},
     "output_type": "execute_result"
    },
    {
     "data": {
      "image/png": "[encoded data removed]",
      "text/plain": [
       "<Figure size 432x288 with 1 Axes>"
      ]
     },
     "metadata": {
      "needs_background": "light"
     },
     "output_type": "display_data"
    }
   ],
   "source": [
    "rowMaxNT.loc[250:265].plot(style='.')"
   ]
  },
  {
   "cell_type": "code",
   "execution_count": 12,
   "metadata": {},
   "outputs": [],
   "source": [
    "rowMaxNT_slice_no_outlier = rowMaxNT.loc[240:280].drop([256])"
   ]
  },
  {
   "cell_type": "code",
   "execution_count": 13,
   "metadata": {},
   "outputs": [
    {
     "data": {
      "text/plain": [
       "<matplotlib.axes._subplots.AxesSubplot at 0x7fe52c606438>"
      ]
     },
     "execution_count": 13,
     "metadata": {},
     "output_type": "execute_result"
    },
    {
     "data": {
      "image/png": "[encoded data removed]",
      "text/plain": [
       "<Figure size 432x288 with 1 Axes>"
      ]
     },
     "metadata": {
      "needs_background": "light"
     },
     "output_type": "display_data"
    }
   ],
   "source": [
    "#outputFile = outputFilePath + \"/plot_nt_240-280_min.png\"\n",
    "#rowMaxNT_slice_no_outlier.plot(style='.').get_figure().savefig(outputFile)\n",
    "rowMaxNT_slice_no_outlier.plot(style='.')"
   ]
  },
  {
   "cell_type": "code",
   "execution_count": 14,
   "metadata": {},
   "outputs": [],
   "source": [
    "import statsmodels.api as sm\n",
    "import statsmodels.formula.api as smf"
   ]
  },
  {
   "cell_type": "code",
   "execution_count": 15,
   "metadata": {},
   "outputs": [
    {
     "name": "stderr",
     "output_type": "stream",
     "text": [
      "/opt/conda/lib/python3.7/site-packages/numpy/core/fromnumeric.py:2495: FutureWarning: Method .ptp is deprecated and will be removed in a future version. Use numpy.ptp instead.\n",
      "  return ptp(axis=axis, out=out, **kwargs)\n"
     ]
    }
   ],
   "source": [
    "X = pd.Series(list(rowMaxNT.index))\n",
    "y = pd.Series(rowMaxNT.values)\n",
    "X = sm.add_constant(X)"
   ]
  },
  {
   "cell_type": "code",
   "execution_count": 16,
   "metadata": {},
   "outputs": [
    {
     "data": {
      "text/html": [
       "<table class=\"simpletable\">\n",
       "<caption>OLS Regression Results</caption>\n",
       "<tr>\n",
       "  <th>Dep. Variable:</th>            <td>y</td>        <th>  R-squared:         </th> <td>   0.963</td>\n",
       "</tr>\n",
       "<tr>\n",
       "  <th>Model:</th>                   <td>OLS</td>       <th>  Adj. R-squared:    </th> <td>   0.962</td>\n",
       "</tr>\n",
       "<tr>\n",
       "  <th>Method:</th>             <td>Least Squares</td>  <th>  F-statistic:       </th> <td>   3252.</td>\n",
       "</tr>\n",
       "<tr>\n",
       "  <th>Date:</th>             <td>Thu, 16 Apr 2020</td> <th>  Prob (F-statistic):</th> <td>7.52e-92</td>\n",
       "</tr>\n",
       "<tr>\n",
       "  <th>Time:</th>                 <td>22:36:11</td>     <th>  Log-Likelihood:    </th> <td> -529.50</td>\n",
       "</tr>\n",
       "<tr>\n",
       "  <th>No. Observations:</th>      <td>   128</td>      <th>  AIC:               </th> <td>   1063.</td>\n",
       "</tr>\n",
       "<tr>\n",
       "  <th>Df Residuals:</th>          <td>   126</td>      <th>  BIC:               </th> <td>   1069.</td>\n",
       "</tr>\n",
       "<tr>\n",
       "  <th>Df Model:</th>              <td>     1</td>      <th>                     </th>     <td> </td>   \n",
       "</tr>\n",
       "<tr>\n",
       "  <th>Covariance Type:</th>      <td>nonrobust</td>    <th>                     </th>     <td> </td>   \n",
       "</tr>\n",
       "</table>\n",
       "<table class=\"simpletable\">\n",
       "<tr>\n",
       "    <td></td>       <th>coef</th>     <th>std err</th>      <th>t</th>      <th>P>|t|</th>  <th>[0.025</th>    <th>0.975]</th>  \n",
       "</tr>\n",
       "<tr>\n",
       "  <th>const</th> <td>  -45.5896</td> <td>    9.428</td> <td>   -4.836</td> <td> 0.000</td> <td>  -64.247</td> <td>  -26.932</td>\n",
       "</tr>\n",
       "<tr>\n",
       "  <th>0</th>     <td>    2.0826</td> <td>    0.037</td> <td>   57.027</td> <td> 0.000</td> <td>    2.010</td> <td>    2.155</td>\n",
       "</tr>\n",
       "</table>\n",
       "<table class=\"simpletable\">\n",
       "<tr>\n",
       "  <th>Omnibus:</th>       <td>147.378</td> <th>  Durbin-Watson:     </th> <td>   1.408</td>\n",
       "</tr>\n",
       "<tr>\n",
       "  <th>Prob(Omnibus):</th> <td> 0.000</td>  <th>  Jarque-Bera (JB):  </th> <td>3606.282</td>\n",
       "</tr>\n",
       "<tr>\n",
       "  <th>Skew:</th>          <td>-4.150</td>  <th>  Prob(JB):          </th> <td>    0.00</td>\n",
       "</tr>\n",
       "<tr>\n",
       "  <th>Kurtosis:</th>      <td>27.643</td>  <th>  Cond. No.          </th> <td>1.80e+03</td>\n",
       "</tr>\n",
       "</table><br/><br/>Warnings:<br/>[1] Standard Errors assume that the covariance matrix of the errors is correctly specified.<br/>[2] The condition number is large, 1.8e+03. This might indicate that there are<br/>strong multicollinearity or other numerical problems."
      ],
      "text/plain": [
       "<class 'statsmodels.iolib.summary.Summary'>\n",
       "\"\"\"\n",
       "                            OLS Regression Results                            \n",
       "==============================================================================\n",
       "Dep. Variable:                      y   R-squared:                       0.963\n",
       "Model:                            OLS   Adj. R-squared:                  0.962\n",
       "Method:                 Least Squares   F-statistic:                     3252.\n",
       "Date:                Thu, 16 Apr 2020   Prob (F-statistic):           7.52e-92\n",
       "Time:                        22:36:11   Log-Likelihood:                -529.50\n",
       "No. Observations:                 128   AIC:                             1063.\n",
       "Df Residuals:                     126   BIC:                             1069.\n",
       "Df Model:                           1                                         \n",
       "Covariance Type:            nonrobust                                         \n",
       "==============================================================================\n",
       "                 coef    std err          t      P>|t|      [0.025      0.975]\n",
       "------------------------------------------------------------------------------\n",
       "const        -45.5896      9.428     -4.836      0.000     -64.247     -26.932\n",
       "0              2.0826      0.037     57.027      0.000       2.010       2.155\n",
       "==============================================================================\n",
       "Omnibus:                      147.378   Durbin-Watson:                   1.408\n",
       "Prob(Omnibus):                  0.000   Jarque-Bera (JB):             3606.282\n",
       "Skew:                          -4.150   Prob(JB):                         0.00\n",
       "Kurtosis:                      27.643   Cond. No.                     1.80e+03\n",
       "==============================================================================\n",
       "\n",
       "Warnings:\n",
       "[1] Standard Errors assume that the covariance matrix of the errors is correctly specified.\n",
       "[2] The condition number is large, 1.8e+03. This might indicate that there are\n",
       "strong multicollinearity or other numerical problems.\n",
       "\"\"\""
      ]
     },
     "execution_count": 16,
     "metadata": {},
     "output_type": "execute_result"
    }
   ],
   "source": [
    "linear_regression = sm.OLS(y,X)\n",
    "fitted_model = linear_regression.fit()\n",
    "fitted_model.summary()"
   ]
  },
  {
   "cell_type": "code",
   "execution_count": 17,
   "metadata": {},
   "outputs": [
    {
     "name": "stdout",
     "output_type": "stream",
     "text": [
      "const   -45.589613\n",
      "0         2.082634\n",
      "dtype: float64\n"
     ]
    }
   ],
   "source": [
    "print (fitted_model.params)"
   ]
  },
  {
   "cell_type": "code",
   "execution_count": 18,
   "metadata": {},
   "outputs": [],
   "source": [
    "fitted_values = fitted_model.predict(X)"
   ]
  },
  {
   "cell_type": "code",
   "execution_count": 19,
   "metadata": {},
   "outputs": [
    {
     "data": {
      "image/png": "[encoded data removed]",
      "text/plain": [
       "<Figure size 432x288 with 1 Axes>"
      ]
     },
     "metadata": {
      "needs_background": "light"
     },
     "output_type": "display_data"
    }
   ],
   "source": [
    "x_range = [X[0].min(),X[0].max()]\n",
    "y_range = [y.min(),y.max()]\n",
    "scatter_plot = rowMaxNT.plot(style='.', xlim=x_range, ylim=y_range)\n",
    "meanY = scatter_plot.plot(x_range, [rowMaxNT.mean(),rowMaxNT.mean()], '--', color='red', linewidth=1)\n",
    "meanX = scatter_plot.plot([X[0].mean(),X[0].mean()], y_range, '--', color='red', linewidth=1)\n",
    "regression_line = scatter_plot.plot(X[0], fitted_values, '-', color='orange', linewidth=1)"
   ]
  },
  {
   "cell_type": "code",
   "execution_count": 20,
   "metadata": {},
   "outputs": [],
   "source": [
    "rowUpper = rowMaxNT.loc[257:]\n",
    "rowLower = rowMaxNT.loc[:255]"
   ]
  },
  {
   "cell_type": "code",
   "execution_count": 21,
   "metadata": {},
   "outputs": [
    {
     "data": {
      "text/plain": [
       "192    365\n",
       "193    359\n",
       "194    362\n",
       "195    371\n",
       "196    370\n",
       "      ... \n",
       "251    468\n",
       "252    471\n",
       "253    466\n",
       "254    463\n",
       "255    463\n",
       "Name: Cijk_Ailk_Bjlk_SB_MT256x32x8_SE_EPS1_GRVW4_K1_NLCA1_PGR1_WG32_4_2_WGM8, Length: 64, dtype: int64"
      ]
     },
     "execution_count": 21,
     "metadata": {},
     "output_type": "execute_result"
    }
   ],
   "source": [
    "rowLower"
   ]
  },
  {
   "cell_type": "code",
   "execution_count": 22,
   "metadata": {},
   "outputs": [],
   "source": [
    "Xu = pd.Series(list(rowUpper.index))\n",
    "yu = pd.Series(rowUpper.values)\n",
    "Xu = sm.add_constant(Xu)\n",
    "\n",
    "Xl = pd.Series(list(rowLower.index))\n",
    "yl = pd.Series(rowLower.values)\n",
    "Xl = sm.add_constant(Xl)"
   ]
  },
  {
   "cell_type": "code",
   "execution_count": 23,
   "metadata": {},
   "outputs": [],
   "source": [
    "linear_regression_upper = sm.OLS(yu,Xu)\n",
    "fitted_model_upper = linear_regression_upper.fit()\n",
    "#fitted_model_upper.summary()\n",
    "\n",
    "linear_regression_lower = sm.OLS(yl,Xl)\n",
    "fitted_model_lower = linear_regression_lower.fit()\n",
    "#fitted_model_lower.summary()"
   ]
  },
  {
   "cell_type": "code",
   "execution_count": 24,
   "metadata": {},
   "outputs": [
    {
     "name": "stdout",
     "output_type": "stream",
     "text": [
      "const   -45.589613\n",
      "0         2.082634\n",
      "dtype: float64\n",
      "const    55.238255\n",
      "0         1.619460\n",
      "dtype: float64\n",
      "const    22.490527\n",
      "0         1.861943\n",
      "dtype: float64\n"
     ]
    }
   ],
   "source": [
    "print (fitted_model.params)\n",
    "print (fitted_model_lower.params)\n",
    "print (fitted_model_upper.params)"
   ]
  },
  {
   "cell_type": "code",
   "execution_count": 25,
   "metadata": {},
   "outputs": [],
   "source": [
    "fitted_values_lower = fitted_model_lower.predict(X)\n",
    "fitted_values_upper = fitted_model_upper.predict(X)"
   ]
  },
  {
   "cell_type": "code",
   "execution_count": 26,
   "metadata": {},
   "outputs": [
    {
     "data": {
      "image/png": "[encoded data removed]",
      "text/plain": [
       "<Figure size 432x288 with 1 Axes>"
      ]
     },
     "metadata": {
      "needs_background": "light"
     },
     "output_type": "display_data"
    }
   ],
   "source": [
    "x_range = [X[0].min(),X[0].max()]\n",
    "y_range = [y.min(),y.max()]\n",
    "scatter_plot = rowMaxNT.plot(style='.', xlim=x_range, ylim=y_range)\n",
    "meanY = scatter_plot.plot(x_range, [rowMaxNT.mean(),rowMaxNT.mean()], '--', color='red', linewidth=1)\n",
    "meanX = scatter_plot.plot([X[0].mean(),X[0].mean()], y_range, '--', color='red', linewidth=1)\n",
    "regression_line = scatter_plot.plot(X[0], fitted_values, '-', color='orange', linewidth=1)\n",
    "regression_line_upper = scatter_plot.plot(X[0], fitted_values_upper, '-', color='green', linewidth=1)\n",
    "regression_line_lower = scatter_plot.plot(X[0], fitted_values_lower, '-', color='blue', linewidth=1)"
   ]
  },
  {
   "cell_type": "code",
   "execution_count": null,
   "metadata": {},
   "outputs": [],
   "source": []
  }
 ],
 "metadata": {
  "kernelspec": {
   "display_name": "Python 3",
   "language": "python",
   "name": "python3"
  },
  "language_info": {
   "codemirror_mode": {
    "name": "ipython",
    "version": 3
   },
   "file_extension": ".py",
   "mimetype": "text/x-python",
   "name": "python",
   "nbconvert_exporter": "python",
   "pygments_lexer": "ipython3",
   "version": "3.7.3"
  }
 },
 "nbformat": 4,
 "nbformat_minor": 4
}
